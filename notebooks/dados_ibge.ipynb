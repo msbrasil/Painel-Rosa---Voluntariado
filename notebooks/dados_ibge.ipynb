{
  "cells": [
    {
      "cell_type": "markdown",
      "metadata": {},
      "source": [
        "Notebook criado pela @Mariana e @Heber"
      ]
    },
    {
      "cell_type": "code",
      "execution_count": null,
      "metadata": {
        "id": "o5XfPT2yRz_N"
      },
      "outputs": [],
      "source": [
        "# pop residente por sexo e grupos de idade\n",
        "https://servicodados.ibge.gov.br/api/v3/agregados/205/periodos/1991/variaveis/93?localidades=N6[all]&classificacao=2[4,5]|58[all]\n",
        "\n",
        "#pop residente por sexo, situaçao e grupos de idade-amostra-caracteristicas gerais da pop\n",
        "https://servicodados.ibge.gov.br/api/v3/agregados/200/periodos/2010/variaveis/93?localidades=N6[all]&classificacao=2[4,5]|1[0]|58[all]\n",
        "\n",
        "#Valor do rendimento nominal médio mensal domiciliar per capita das pessoas de 10 anos ou mais de idade, com rendimento mensal domiciliar per capita, residentes em domicílios particulares, exclusive as pessoas cuja condição no domicílio era pensionista, empregado(a) doméstico(a) ou parente do(a) empregado(a) doméstico(a)\n",
        "https://servicodados.ibge.gov.br/api/v3/agregados/3974/periodos/2010/variaveis/3948?localidades=N6[all]&classificacao=12085[100543]|58[95253]\n",
        "\n",
        "\n",
        "#puxar escolaridade\n",
        "#puxar dados de renda\n"
      ]
    },
    {
      "cell_type": "code",
      "execution_count": 3,
      "metadata": {
        "id": "b0WzATNbjIrk"
      },
      "outputs": [],
      "source": [
        "import urllib3\n",
        "import json\n",
        "import matplotlib.pyplot as plt\n",
        "import numpy as np\n",
        "import pandas as pd"
      ]
    },
    {
      "cell_type": "code",
      "execution_count": 4,
      "metadata": {
        "colab": {
          "base_uri": "https://localhost:8080/"
        },
        "id": "y5ftOMJnjxVv",
        "outputId": "8e05a514-6fd1-4118-8dcf-6bd6a4fdc677"
      },
      "outputs": [
        {
          "name": "stdout",
          "output_type": "stream",
          "text": [
            "responde status 0: 200\n",
            "responde status 1140: 200\n",
            "responde status 2483: 200\n"
          ]
        }
      ],
      "source": [
        "#HTTP client para python\n",
        "http = urllib3.PoolManager()\n",
        "\n",
        "lista_grupos_idades = [0, 1140, 2483]\n",
        "\n",
        "#urlApiIBGE = 'http://servicodados.ibge.gov.br/api/v3/agregados/205/periodos/1991/variaveis/93?localidades=N6[all]&classificacao=2[4,5]|58[0]'\n",
        "#response = http.request('GET', urlApiIBGE)\n",
        "#print('responde status:', response.status)\n",
        "lista_resultados = []\n",
        "for grupo_idade in lista_grupos_idades:\n",
        "  urlApiIBGE = f'http://servicodados.ibge.gov.br/api/v3/agregados/205/periodos/1991/variaveis/93?localidades=N6[all]&classificacao=2[4,5]|58[{grupo_idade}]'\n",
        "  response = http.request('GET', urlApiIBGE)\n",
        "  data_response = response.data.decode('utf-8')\n",
        "  data_json = json.loads(data_response)\n",
        "  print(f'responde status {grupo_idade}: {response.status}')\n",
        "  for resultado in data_json[0]['resultados']:\n",
        "    codigo_sexo = list(resultado['classificacoes'][0]['categoria'].keys())[0]\n",
        "    valor_sexo = resultado['classificacoes'][0]['categoria'][codigo_sexo]\n",
        "    codigo_categoria = list(resultado['classificacoes'][1]['categoria'].keys())[0]  \n",
        "    valor_categoria = resultado['classificacoes'][1]['categoria'][codigo_categoria]      \n",
        "    for serie in resultado['series']:\n",
        "        codigo_local = serie['localidade']['id']\n",
        "        nome_local = serie['localidade']['nome']\n",
        "        ano = list(serie['serie'].keys())[0]\n",
        "        valor = serie['serie'][ano]\n",
        "        lista_resultados.append(\n",
        "            {\n",
        "              'codigo_sexo':codigo_sexo,\n",
        "              'valor_sexo':valor_sexo,\n",
        "              'codigo_local':codigo_local,           \n",
        "              'nome_local':nome_local,\n",
        "              'ano':ano,\n",
        "              'populacao':valor,           \n",
        "              'faixa_idade':valor_categoria\n",
        "            }\n",
        "        )"
      ]
    },
    {
      "cell_type": "code",
      "execution_count": 5,
      "metadata": {
        "colab": {
          "base_uri": "https://localhost:8080/",
          "height": 423
        },
        "id": "iILtwA5jq2xl",
        "outputId": "412c4b0c-243e-4620-be8a-9fdc96c06c29"
      },
      "outputs": [
        {
          "data": {
            "text/html": [
              "<div>\n",
              "<style scoped>\n",
              "    .dataframe tbody tr th:only-of-type {\n",
              "        vertical-align: middle;\n",
              "    }\n",
              "\n",
              "    .dataframe tbody tr th {\n",
              "        vertical-align: top;\n",
              "    }\n",
              "\n",
              "    .dataframe thead th {\n",
              "        text-align: right;\n",
              "    }\n",
              "</style>\n",
              "<table border=\"1\" class=\"dataframe\">\n",
              "  <thead>\n",
              "    <tr style=\"text-align: right;\">\n",
              "      <th></th>\n",
              "      <th>codigo_sexo</th>\n",
              "      <th>valor_sexo</th>\n",
              "      <th>codigo_local</th>\n",
              "      <th>nome_local</th>\n",
              "      <th>ano</th>\n",
              "      <th>populacao</th>\n",
              "      <th>faixa_idade</th>\n",
              "    </tr>\n",
              "  </thead>\n",
              "  <tbody>\n",
              "    <tr>\n",
              "      <th>0</th>\n",
              "      <td>4</td>\n",
              "      <td>Homens</td>\n",
              "      <td>1100015</td>\n",
              "      <td>Alta Floresta D'Oeste - RO</td>\n",
              "      <td>1991</td>\n",
              "      <td>17009</td>\n",
              "      <td>Total</td>\n",
              "    </tr>\n",
              "    <tr>\n",
              "      <th>1</th>\n",
              "      <td>4</td>\n",
              "      <td>Homens</td>\n",
              "      <td>1100023</td>\n",
              "      <td>Ariquemes - RO</td>\n",
              "      <td>1991</td>\n",
              "      <td>44267</td>\n",
              "      <td>Total</td>\n",
              "    </tr>\n",
              "    <tr>\n",
              "      <th>2</th>\n",
              "      <td>4</td>\n",
              "      <td>Homens</td>\n",
              "      <td>1100031</td>\n",
              "      <td>Cabixi - RO</td>\n",
              "      <td>1991</td>\n",
              "      <td>4348</td>\n",
              "      <td>Total</td>\n",
              "    </tr>\n",
              "    <tr>\n",
              "      <th>3</th>\n",
              "      <td>4</td>\n",
              "      <td>Homens</td>\n",
              "      <td>1100049</td>\n",
              "      <td>Cacoal - RO</td>\n",
              "      <td>1991</td>\n",
              "      <td>40612</td>\n",
              "      <td>Total</td>\n",
              "    </tr>\n",
              "    <tr>\n",
              "      <th>4</th>\n",
              "      <td>4</td>\n",
              "      <td>Homens</td>\n",
              "      <td>1100056</td>\n",
              "      <td>Cerejeiras - RO</td>\n",
              "      <td>1991</td>\n",
              "      <td>11230</td>\n",
              "      <td>Total</td>\n",
              "    </tr>\n",
              "    <tr>\n",
              "      <th>...</th>\n",
              "      <td>...</td>\n",
              "      <td>...</td>\n",
              "      <td>...</td>\n",
              "      <td>...</td>\n",
              "      <td>...</td>\n",
              "      <td>...</td>\n",
              "      <td>...</td>\n",
              "    </tr>\n",
              "    <tr>\n",
              "      <th>26941</th>\n",
              "      <td>5</td>\n",
              "      <td>Mulheres</td>\n",
              "      <td>5221809</td>\n",
              "      <td>Urutaí - GO</td>\n",
              "      <td>1991</td>\n",
              "      <td>27</td>\n",
              "      <td>0 ano</td>\n",
              "    </tr>\n",
              "    <tr>\n",
              "      <th>26942</th>\n",
              "      <td>5</td>\n",
              "      <td>Mulheres</td>\n",
              "      <td>5221908</td>\n",
              "      <td>Varjão - GO</td>\n",
              "      <td>1991</td>\n",
              "      <td>31</td>\n",
              "      <td>0 ano</td>\n",
              "    </tr>\n",
              "    <tr>\n",
              "      <th>26943</th>\n",
              "      <td>5</td>\n",
              "      <td>Mulheres</td>\n",
              "      <td>5222005</td>\n",
              "      <td>Vianópolis - GO</td>\n",
              "      <td>1991</td>\n",
              "      <td>83</td>\n",
              "      <td>0 ano</td>\n",
              "    </tr>\n",
              "    <tr>\n",
              "      <th>26944</th>\n",
              "      <td>5</td>\n",
              "      <td>Mulheres</td>\n",
              "      <td>5222054</td>\n",
              "      <td>Vicentinópolis - GO</td>\n",
              "      <td>1991</td>\n",
              "      <td>63</td>\n",
              "      <td>0 ano</td>\n",
              "    </tr>\n",
              "    <tr>\n",
              "      <th>26945</th>\n",
              "      <td>5</td>\n",
              "      <td>Mulheres</td>\n",
              "      <td>5300108</td>\n",
              "      <td>Brasília - DF</td>\n",
              "      <td>1991</td>\n",
              "      <td>18167</td>\n",
              "      <td>0 ano</td>\n",
              "    </tr>\n",
              "  </tbody>\n",
              "</table>\n",
              "<p>26946 rows × 7 columns</p>\n",
              "</div>"
            ],
            "text/plain": [
              "      codigo_sexo valor_sexo codigo_local                  nome_local   ano  \\\n",
              "0               4     Homens      1100015  Alta Floresta D'Oeste - RO  1991   \n",
              "1               4     Homens      1100023              Ariquemes - RO  1991   \n",
              "2               4     Homens      1100031                 Cabixi - RO  1991   \n",
              "3               4     Homens      1100049                 Cacoal - RO  1991   \n",
              "4               4     Homens      1100056             Cerejeiras - RO  1991   \n",
              "...           ...        ...          ...                         ...   ...   \n",
              "26941           5   Mulheres      5221809                 Urutaí - GO  1991   \n",
              "26942           5   Mulheres      5221908                 Varjão - GO  1991   \n",
              "26943           5   Mulheres      5222005             Vianópolis - GO  1991   \n",
              "26944           5   Mulheres      5222054         Vicentinópolis - GO  1991   \n",
              "26945           5   Mulheres      5300108               Brasília - DF  1991   \n",
              "\n",
              "      populacao faixa_idade  \n",
              "0         17009       Total  \n",
              "1         44267       Total  \n",
              "2          4348       Total  \n",
              "3         40612       Total  \n",
              "4         11230       Total  \n",
              "...         ...         ...  \n",
              "26941        27       0 ano  \n",
              "26942        31       0 ano  \n",
              "26943        83       0 ano  \n",
              "26944        63       0 ano  \n",
              "26945     18167       0 ano  \n",
              "\n",
              "[26946 rows x 7 columns]"
            ]
          },
          "execution_count": 5,
          "metadata": {},
          "output_type": "execute_result"
        }
      ],
      "source": [
        "exemplo_dados = pd.DataFrame.from_records(lista_resultados)\n",
        "exemplo_dados"
      ]
    },
    {
      "cell_type": "code",
      "execution_count": null,
      "metadata": {
        "id": "ZatA9SZZoLJS"
      },
      "outputs": [],
      "source": []
    }
  ],
  "metadata": {
    "colab": {
      "provenance": []
    },
    "kernelspec": {
      "display_name": "base",
      "language": "python",
      "name": "python3"
    },
    "language_info": {
      "codemirror_mode": {
        "name": "ipython",
        "version": 3
      },
      "file_extension": ".py",
      "mimetype": "text/x-python",
      "name": "python",
      "nbconvert_exporter": "python",
      "pygments_lexer": "ipython3",
      "version": "3.9.7 (default, Sep 16 2021, 16:59:28) [MSC v.1916 64 bit (AMD64)]"
    },
    "vscode": {
      "interpreter": {
        "hash": "08a400adeb6830322ec40344573c657b15a9eb2eef6e1c7ab2815bda50c98d3e"
      }
    }
  },
  "nbformat": 4,
  "nbformat_minor": 0
}
